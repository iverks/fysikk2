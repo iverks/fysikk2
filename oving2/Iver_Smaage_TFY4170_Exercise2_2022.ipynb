{
 "cells": [
  {
   "cell_type": "markdown",
   "id": "58bba105",
   "metadata": {},
   "source": [
    "# Iver Småge\n",
    "## General Sinusoidal Wave Simulator in 1D and in 2D\n",
    "### TFY4170-Exercise2-2022-V1\n",
    "\n",
    "#### Wave Physics \n",
    "\n",
    "<section class=\"post-meta\">\n",
    "By Pawel Sikorski, Department of Physics, NTNU\n",
    "</section>\n",
    "Last edited: January 18th 2022\n"
   ]
  },
  {
   "cell_type": "markdown",
   "id": "c4e38365",
   "metadata": {},
   "source": [
    "\n",
    "\n",
    "The code below contains one possible implementation of a situation where a single source with a time dependent amplitude generates two waves moving in +x and -x direction. Using this code or the code you have developed in Exercise 1 and:\n",
    "\n",
    "\n",
    "- Extend to two sources located at $x=0$ with frequency $\\omega_1$ and $\\omega_2$.  \n",
    "\n",
    "- Extend to two sources one located at $x=0$ and one at $x=\\Delta x$ operating at the same frequency and with a constant and equal amplitudes. First, set $\\Delta x = 4\\lambda$;\n",
    "\n",
    "- investigate the effect of $\\Delta x$ on the interference pattern in different regions along the x-axis. What happens in a situation where the sources have different amplitudes? \n",
    "\n",
    "- Make a 2D simulation for a single and multiple sources, for which both angular frequency and time-dependent amplitude can be set.  In this case $$y(r,t) = A\\sin(\\omega t - kr + \\phi)$$ and all points that are at the distance $r$  from the source oscilate in phase. \n",
    "\n",
    "Help with implementation of 2D animations:  https://matplotlib.org/stable/gallery/animation/dynamic_image.html\n",
    "\n"
   ]
  },
  {
   "cell_type": "markdown",
   "id": "3dd50f13",
   "metadata": {},
   "source": [
    "## Answers\n",
    "\n",
    "Collection of animations: https://imgur.com/a/nRdwtUi  \n",
    "For 2d waves https://imgur.com/a/WDw1uF4"
   ]
  },
  {
   "cell_type": "code",
   "execution_count": null,
   "id": "5016b098",
   "metadata": {},
   "outputs": [],
   "source": [
    "import matplotlib.pyplot as plt\n",
    "import numpy as np\n",
    "from matplotlib.animation import FuncAnimation, PillowWriter, ArtistAnimation\n",
    "\n",
    "%matplotlib inline\n",
    "%config InlineBackend.figure_format = 'retina'\n",
    "\n",
    "# Enable interactive plot\n",
    "%matplotlib inline\n",
    "\n",
    "from IPython.display import HTML\n",
    "FPS=30"
   ]
  },
  {
   "cell_type": "markdown",
   "id": "ef2cd256",
   "metadata": {},
   "source": [
    "2D matrix that contains data as a function of x and is calculated for each timepoint t. "
   ]
  },
  {
   "cell_type": "code",
   "execution_count": null,
   "id": "ff6366bd",
   "metadata": {},
   "outputs": [],
   "source": [
    "MINX = -10\n",
    "MAXX = 10 # [m]\n",
    "\n",
    "x = np.linspace(MINX, MAXX, 500)\n",
    "\n",
    "global omega1,omega2,v\n",
    "\n",
    "#system parameters\n",
    "omega1=3*np.pi  \n",
    "omega2=1.5*np.pi  \n",
    "v = 1 #m/s\n"
   ]
  },
  {
   "cell_type": "code",
   "execution_count": null,
   "id": "948f0012",
   "metadata": {},
   "outputs": [],
   "source": [
    "# Time-dependent surce amplitude\n",
    "def A(t0):\n",
    "     Amplitude=np.ones(t0.shape)*(1*t0/10)\n",
    "     Amplitude=abs(np.ones(t0.shape)*np.cos(0.1*np.pi*t0))\n",
    "     #Amplitude*=(Amplitude>0) \n",
    "     return Amplitude\n"
   ]
  },
  {
   "cell_type": "markdown",
   "id": "4a6fee7e",
   "metadata": {},
   "source": [
    "Disturbance at along the x-axis at time t0\n",
    "amplitude at (x,t) is calculated from the source amplitude at (0, t -x/v)\n",
    "where x/v is the time that wave needs to travel to point x\n",
    "\n",
    "Abs(x) is needed due to the fact that the wave propagates in oposite direction for x<0.\n"
   ]
  },
  {
   "cell_type": "code",
   "execution_count": null,
   "id": "374d148d",
   "metadata": {},
   "outputs": [],
   "source": [
    "def get_Lambda(omega, v):\n",
    "    T1 = 2*np.pi/omega\n",
    "    return v*T1\n",
    "\n",
    "def y(x,t0,phi,omega,v):\n",
    "    # calculated form given angular frequency and wave propagation velocity\n",
    "    Lambda = get_Lambda(omega, v)\n",
    "    k = 2*np.pi/Lambda\n",
    "    y = A(t0-np.abs(x)/v)*np.sin(omega*t0 - np.abs(k*x) + phi) \n",
    "    return y  "
   ]
  },
  {
   "cell_type": "code",
   "execution_count": null,
   "id": "05890340",
   "metadata": {},
   "outputs": [],
   "source": [
    "# Testing amplitude function\n",
    "\n",
    "#MINT = 0\n",
    "#MAXT = 100\n",
    "#t = np.linspace(MINT, MAXT, 500)\n",
    "#fig = plt.figure(figsize=(12, 4), dpi=60)\n",
    "#plt.plot(t,A(t))\n",
    "#plt.show()\n",
    "\n"
   ]
  },
  {
   "cell_type": "code",
   "execution_count": null,
   "id": "0a7631dc",
   "metadata": {},
   "outputs": [],
   "source": [
    "\n",
    "\n",
    "# Set up the figure\n",
    "fig = plt.figure(figsize=(10, 8), dpi=60)\n",
    "ax = plt.axes(xlim=(MINX-0.5, MAXX), ylim=(-5.5, 5.5))\n",
    "ax.set_aspect('equal')\n",
    "color1 = \"#D00000\"\n",
    "line, = ax.plot([], color=color1)\n",
    "rod, = ax.plot([], [], color=color1, linewidth=4)\n",
    "ball = plt.Circle((0, 0), .5, fc=color1)\n",
    "color2 = \"#FFBA08\"\n",
    "line2, = ax.plot([], color=color2)\n",
    "rod2, = ax.plot([], [], color=color2, linewidth=4)\n",
    "ball2 = plt.Circle((0, 0), .5, fc=color2)\n",
    "color3 = \"#3F88C5\"\n",
    "line3, = ax.plot([], color=color3)\n",
    "\n",
    "ax.add_patch(ball)\n",
    "ax.add_patch(ball2)\n",
    "\n",
    "\n",
    "Interval=50 #Delay between frames in milliseconds \n",
    "time_text = ax.text(0.2, .8, '', transform=ax.transAxes)\n",
    "v_text = ax.text(0.6, .8, '', transform=ax.transAxes)\n",
    "\n",
    "\n",
    "\n",
    "def animate(frame_num):\n",
    "    t=frame_num*Interval/1000 #time in [s]\n",
    "    time_text.set_text('time = %.2f s' % t)\n",
    "    v_text.set_text('wave velocity = %.2f m/s' % v)\n",
    "    Y = y(x,t,0,omega1,v) + 3 # Offset with 3 for clarity\n",
    "    Y0 =y(0,t,0,omega1,v) + 3 \n",
    "    ball.center = (0, Y0)\n",
    "    rod.set_data([0,0], [Y0, 4])\n",
    "    line.set_data((x, Y))\n",
    "    \n",
    "    omega2 = omega1\n",
    "    Lambda1 = get_Lambda(omega2, v)\n",
    "    delta_x = Lambda1\n",
    "    x2 = x - delta_x\n",
    "    Y2 = y(x2, t, 0, omega2, v) -3 # Offset with 3 for clarity\n",
    "    Y02 = y(0, t, 0, omega2, v) -3\n",
    "    ball2.center = (delta_x, Y02)\n",
    "    rod2.set_data([delta_x,delta_x], [Y02, -10])\n",
    "    line2.set_data((x, Y2)) \n",
    "    \n",
    "    line3.set_data((x, Y + Y2))\n",
    "    return line\n",
    "\n",
    "\n",
    "anim = FuncAnimation(fig, animate, frames=500, interval=Interval) \n",
    "# plt.show() # this shows the animation as it is generated. \n",
    "\n",
    "# Display the animation as video\n",
    "plt.close(anim._fig)\n",
    "# anim_writer = PillowWriter(fps=60)\n",
    "# anim.save(\"bolge.gif\", anim_writer)\n",
    "# HTML(anim.to_jshtml()) # this takes few seconds "
   ]
  },
  {
   "cell_type": "code",
   "execution_count": null,
   "id": "ee512d44",
   "metadata": {},
   "outputs": [],
   "source": [
    "MINX = -10\n",
    "MAXX = 10 # [m]\n",
    "MINY = -10\n",
    "MAXY = 10\n",
    "\n",
    "Interval=50 #Delay between frames in milliseconds \n",
    "\n",
    "fig, ax = plt.subplots()\n",
    "\n",
    "xs = np.linspace(MINX, MAXX, 100)\n",
    "ys = np.linspace(MINY, MAXY, 100).reshape(-1, 1)\n",
    "xs, ys = np.meshgrid(xs, ys)\n",
    "r1 = np.sqrt((xs-2)**2 + (ys-2)**2) # Center in (2, 2)\n",
    "r2 = np.sqrt((xs+2)**2 + (ys)**2) # Center in (-2, 0)\n",
    "\n",
    "imgs = []\n",
    "for frame_num in range(500):\n",
    "    t=frame_num*Interval/1000 #time in [s]\n",
    "    YS1 = y(r1, t, 0, omega1, v)\n",
    "    YS2 = y(r2, t, 0, omega1, v)\n",
    "    im = ax.imshow(YS1 + YS2, animated=True, cmap=\"ocean\")\n",
    "    imgs.append([im])\n",
    "\n",
    "plt.close(anim._fig)\n",
    "anim2 = ArtistAnimation(fig, imgs, interval=50, blit = True, repeat_delay=1000)\n",
    "anim_writer = PillowWriter(fps=60)\n",
    "anim2.save(\"bolge.gif\", anim_writer)\n",
    "HTML(anim2.to_jshtml())\n"
   ]
  },
  {
   "cell_type": "code",
   "execution_count": null,
   "id": "df8d569c",
   "metadata": {},
   "outputs": [],
   "source": []
  }
 ],
 "metadata": {
  "kernelspec": {
   "display_name": "Python 3 (ipykernel)",
   "language": "python",
   "name": "python3"
  },
  "language_info": {
   "codemirror_mode": {
    "name": "ipython",
    "version": 3
   },
   "file_extension": ".py",
   "mimetype": "text/x-python",
   "name": "python",
   "nbconvert_exporter": "python",
   "pygments_lexer": "ipython3",
   "version": "3.10.2"
  }
 },
 "nbformat": 4,
 "nbformat_minor": 5
}
